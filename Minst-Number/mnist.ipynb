{
 "cells": [
  {
   "cell_type": "code",
   "execution_count": 120,
   "metadata": {},
   "outputs": [],
   "source": [
    "#Derin öğrenme ve yapay sinir ağları bu bölümünde keras.datasets içerisinde hazır veri seti olan mnist ile eğitim ve test ortamı oluşturacağız.\n",
    "#mnist dataseti elle yazılmış bir çok rakamlardan oluşan bir datasettir\n",
    "#Bu dataset içerisindeki resimler 28x28 piksel boyutunda ve 0-9 rakamlarını içermektedir.\n",
    "#60000 eğitim seti 10000 ise test seti bulunmaktadır.\n",
    "#Dataset hakkında biraz bilgiden sonra ağımızı tasarlamaya başlayalım\n"
   ]
  },
  {
   "cell_type": "code",
   "execution_count": 212,
   "metadata": {},
   "outputs": [],
   "source": [
    "#İlk olarak keras import ediyoruz\n",
    "import keras"
   ]
  },
  {
   "cell_type": "code",
   "execution_count": 213,
   "metadata": {},
   "outputs": [],
   "source": [
    "#Keras.datasets içerisinde bulunan mnist datasetini import ederek devam ediyoruz\n",
    "from keras.datasets import mnist\n",
    "\n",
    "#Mnist dataseti bize 4 farklı parametre göndermektedir. Bunlar eğitim resmi, eğitim etiketi, test resmi, test etiketi. Bunları karşılayacak şekilde bir nesne oluşturuyruz\n",
    "(egitim_resim,egitim_etiket), (test_resim, test_etiket) = mnist.load_data()"
   ]
  },
  {
   "cell_type": "code",
   "execution_count": 214,
   "metadata": {},
   "outputs": [
    {
     "data": {
      "text/plain": [
       "numpy.ndarray"
      ]
     },
     "execution_count": 214,
     "metadata": {},
     "output_type": "execute_result"
    }
   ],
   "source": [
    "#Datasetinin tipini öğrenelim\n",
    "type(egitim_resim)"
   ]
  },
  {
   "cell_type": "code",
   "execution_count": 215,
   "metadata": {},
   "outputs": [
    {
     "data": {
      "text/plain": [
       "(60000, 28, 28)"
      ]
     },
     "execution_count": 215,
     "metadata": {},
     "output_type": "execute_result"
    }
   ],
   "source": [
    "#Numpy import ettikten sonra datasetimizin boyutunu inceleyelim\n",
    "import numpy as np\n",
    "\n",
    "#60000 28x28 eğitim veri seti olduğu gözükmektedir\n",
    "np.shape(egitim_resim)\n"
   ]
  },
  {
   "cell_type": "code",
   "execution_count": 216,
   "metadata": {},
   "outputs": [
    {
     "data": {
      "text/plain": [
       "(10000, 28, 28)"
      ]
     },
     "execution_count": 216,
     "metadata": {},
     "output_type": "execute_result"
    }
   ],
   "source": [
    "#10000 28x28 test veri seti olduğu gözükmektedir\n",
    "np.shape(test_resim)"
   ]
  },
  {
   "cell_type": "code",
   "execution_count": 217,
   "metadata": {},
   "outputs": [
    {
     "data": {
      "text/plain": [
       "array([5, 0, 4, ..., 5, 6, 8], dtype=uint8)"
      ]
     },
     "execution_count": 217,
     "metadata": {},
     "output_type": "execute_result"
    }
   ],
   "source": [
    "#egitim etiketlerindeki verileri görebiliriz. Egitim resminin ilkinin 5 olduğu verilmiş\n",
    "egitim_etiket"
   ]
  },
  {
   "cell_type": "code",
   "execution_count": 218,
   "metadata": {},
   "outputs": [
    {
     "data": {
      "image/png": "[encoded data removed]",
      "text/plain": [
       "<Figure size 432x288 with 1 Axes>"
      ]
     },
     "metadata": {},
     "output_type": "display_data"
    },
    {
     "data": {
      "image/png": "[encoded data removed]",
      "text/plain": [
       "<Figure size 432x288 with 1 Axes>"
      ]
     },
     "metadata": {},
     "output_type": "display_data"
    }
   ],
   "source": [
    "#Burada matplotlib yardımıyla etiketi belirtilen ilk resimlerdeki sayıların 5 ve 0 olduğunu gösterelim\n",
    "import matplotlib.pyplot as plt\n",
    "\n",
    "#1. resim 5\n",
    "ilk_resim=egitim_resim[0]\n",
    "plt.imshow(ilk_resim)\n",
    "plt.show(1)\n",
    "\n",
    "#2. resim 0\n",
    "ikinci_resim=egitim_resim[1]\n",
    "plt.imshow(ikinci_resim)\n",
    "plt.show(2)"
   ]
  },
  {
   "cell_type": "code",
   "execution_count": 219,
   "metadata": {},
   "outputs": [],
   "source": [
    "#Verisetini biraz anladıktan sonra şimdi eğitim aşamasına geçelim ve ağımızı örmeye başlayalım\n",
    "from keras import models\n",
    "from keras import layers\n",
    "\n",
    "#Şimdi modelimizi ögmeye başlayalım ve \n",
    "model = models.Sequential()\n",
    "\n",
    "#İlk girişte katmanımızı oluşturalım ve 128 nöron oluşturalım\n",
    "#Activation olarak relu seçelim ve girişi 28*28 olarak belirtelim. \n",
    "#Her resim 28*28 px olduğu için girişi bu şekilde belirtiyoruz\n",
    "model.add(layers.Dense(128, activation='relu', input_shape=(28 * 28,)))\n",
    "\n",
    "#Çıkış olarak ise 0 dan 9 a kadar sayı olduğu için çıktımızı 10 nöron olarak oluşturuyoruz\n",
    "#Çıkışımızda 10 farklı seçim olduğu için softmax kullanmalıyız.\n",
    "model.add(layers.Dense(10, activation='softmax'))"
   ]
  },
  {
   "cell_type": "code",
   "execution_count": 220,
   "metadata": {},
   "outputs": [],
   "source": [
    "#Şimdi modelimizin optimizer , loss fonksiyonlarını belirtiyoruz.\n",
    "#loss fonksiyonunu birden fazla seçenek olduğu için categorical olarak belirliyoruz\n",
    "#metrics değerini ise fit ettiğimizde göstermesi için giriyoruz\n",
    "#optimizer='sgd' acc: 0.9001\n",
    "#optimizer= 'adam' acc: 0.9788\n",
    "#optimizer='rmsprop' acc:0.9905\n",
    "model.compile(optimizer='rmsprop',\n",
    "                loss='categorical_crossentropy',\n",
    "                metrics=['accuracy'])"
   ]
  },
  {
   "cell_type": "code",
   "execution_count": 221,
   "metadata": {},
   "outputs": [],
   "source": [
    "#Burada eğitim verimizin girdi sayısını ve boyutunu belirtiyoruz ve 255 bölerek normalizasyon işlemine tabi tutuyoruz\n",
    "egitim_resim = egitim_resim.reshape((60000, 28 * 28))\n",
    "egitim_resim = egitim_resim.astype('float32') / 255\n",
    "\n",
    "\n",
    "#Burada eğitim verimizin girdi sayısını ve boyutunu belirtiyoruz ve 255 bölerek normalizasyon işlemine tabi tutuyoruz\n",
    "test_resim = test_resim.reshape((10000, 28 * 28))\n",
    "test_resim = test_resim.astype('float32') / 255"
   ]
  },
  {
   "cell_type": "code",
   "execution_count": 222,
   "metadata": {},
   "outputs": [],
   "source": [
    "from keras.utils import to_categorical\n",
    "\n",
    "#Etiketlerimi veriyoruz çıktıları eğitim setine belirmemiz gerekiyor\n",
    "egitim_etiket = to_categorical(egitim_etiket)\n",
    "test_etiket = to_categorical(test_etiket)"
   ]
  },
  {
   "cell_type": "code",
   "execution_count": 232,
   "metadata": {},
   "outputs": [
    {
     "name": "stdout",
     "output_type": "stream",
     "text": [
      "Epoch 1/5\n",
      "60000/60000 [==============================] - 2s - loss: 0.0596 - acc: 0.9824     \n",
      "Epoch 2/5\n",
      "60000/60000 [==============================] - 2s - loss: 0.0504 - acc: 0.9857     \n",
      "Epoch 3/5\n",
      "60000/60000 [==============================] - 1s - loss: 0.0436 - acc: 0.9875     \n",
      "Epoch 4/5\n",
      "60000/60000 [==============================] - 1s - loss: 0.0380 - acc: 0.9892     \n",
      "Epoch 5/5\n",
      "60000/60000 [==============================] - 1s - loss: 0.0329 - acc: 0.9905     \n"
     ]
    }
   ],
   "source": [
    "#Artık modelimizi oluşturduk ve çalıştırabiliriz\n",
    "#Epoch sayısı artırılırarak daha keskin sonuçlar elde edilebilir \n",
    "sonuc=model.fit(egitim_resim, egitim_etiket, epochs=5, batch_size=128)"
   ]
  },
  {
   "cell_type": "code",
   "execution_count": 233,
   "metadata": {},
   "outputs": [
    {
     "name": "stdout",
     "output_type": "stream",
     "text": [
      " 9120/10000 [==========================>...] - ETA: 0s"
     ]
    }
   ],
   "source": [
    "#Eğitilen ağı test etme\n",
    "test_loss, test_acc = model.evaluate(test_resim, test_etiket)"
   ]
  },
  {
   "cell_type": "code",
   "execution_count": 234,
   "metadata": {},
   "outputs": [
    {
     "name": "stdout",
     "output_type": "stream",
     "text": [
      "test_acc: 0.9777\n",
      "test_loss: 0.0775588279727\n"
     ]
    }
   ],
   "source": [
    "#Test sonucu değerler neredeyse birbirisine çok yakın\n",
    "print('test_acc:', test_acc)\n",
    "print('test_loss:',test_loss)"
   ]
  },
  {
   "cell_type": "code",
   "execution_count": 237,
   "metadata": {},
   "outputs": [
    {
     "data": {
      "image/png": "[encoded data removed]",
      "text/plain": [
       "<Figure size 432x288 with 1 Axes>"
      ]
     },
     "metadata": {},
     "output_type": "display_data"
    }
   ],
   "source": [
    "#Accuracy nasıl ilerleme kat ettiğini matplotlib ile görselleştirebiliriz\n",
    "plt.figure(1)\n",
    "plt.plot(sonuc.history['acc'])\n",
    "plt.title(' accuracy')\n",
    "plt.ylabel('accuracy')\n",
    "plt.xlabel('epoch')\n",
    "plt.show()"
   ]
  },
  {
   "cell_type": "code",
   "execution_count": 241,
   "metadata": {},
   "outputs": [
    {
     "ename": "ModuleNotFoundError",
     "evalue": "No module named 'cv2'",
     "output_type": "error",
     "traceback": [
      "\u001b[0;31m---------------------------------------------------------------------------\u001b[0m",
      "\u001b[0;31mModuleNotFoundError\u001b[0m                       Traceback (most recent call last)",
      "\u001b[0;32m<ipython-input-241-c8ec22b3e787>\u001b[0m in \u001b[0;36m<module>\u001b[0;34m()\u001b[0m\n\u001b[0;32m----> 1\u001b[0;31m \u001b[0;32mimport\u001b[0m \u001b[0mcv2\u001b[0m\u001b[0;34m\u001b[0m\u001b[0m\n\u001b[0m",
      "\u001b[0;31mModuleNotFoundError\u001b[0m: No module named 'cv2'"
     ]
    }
   ],
   "source": [
    "import cv2"
   ]
  },
  {
   "cell_type": "code",
   "execution_count": 242,
   "metadata": {},
   "outputs": [],
   "source": [
    "from PIL import Image, ImageDraw"
   ]
  },
  {
   "cell_type": "code",
   "execution_count": 246,
   "metadata": {},
   "outputs": [],
   "source": [
    "a=Image.open(\"a.jpg\")\n",
    "a.show()"
   ]
  },
  {
   "cell_type": "code",
   "execution_count": 247,
   "metadata": {},
   "outputs": [
    {
     "ename": "TypeError",
     "evalue": "Error when checking model input: data should be a Numpy array, or list/dict of Numpy arrays. Found: <PIL.JpegImagePlugin.JpegImageFile image mode=RGB size=28x28 at 0x130636E80>...",
     "output_type": "error",
     "traceback": [
      "\u001b[0;31m---------------------------------------------------------------------------\u001b[0m",
      "\u001b[0;31mTypeError\u001b[0m                                 Traceback (most recent call last)",
      "\u001b[0;32m<ipython-input-247-7c5570164113>\u001b[0m in \u001b[0;36m<module>\u001b[0;34m()\u001b[0m\n\u001b[0;32m----> 1\u001b[0;31m \u001b[0mtest_loss\u001b[0m\u001b[0;34m,\u001b[0m \u001b[0mtest_acc\u001b[0m \u001b[0;34m=\u001b[0m \u001b[0mmodel\u001b[0m\u001b[0;34m.\u001b[0m\u001b[0mevaluate\u001b[0m\u001b[0;34m(\u001b[0m\u001b[0ma\u001b[0m\u001b[0;34m,\u001b[0m \u001b[0mtest_etiket\u001b[0m\u001b[0;34m)\u001b[0m\u001b[0;34m\u001b[0m\u001b[0m\n\u001b[0m",
      "\u001b[0;32m/anaconda3/lib/python3.6/site-packages/keras/models.py\u001b[0m in \u001b[0;36mevaluate\u001b[0;34m(self, x, y, batch_size, verbose, sample_weight)\u001b[0m\n\u001b[1;32m    890\u001b[0m                                    \u001b[0mbatch_size\u001b[0m\u001b[0;34m=\u001b[0m\u001b[0mbatch_size\u001b[0m\u001b[0;34m,\u001b[0m\u001b[0;34m\u001b[0m\u001b[0m\n\u001b[1;32m    891\u001b[0m                                    \u001b[0mverbose\u001b[0m\u001b[0;34m=\u001b[0m\u001b[0mverbose\u001b[0m\u001b[0;34m,\u001b[0m\u001b[0;34m\u001b[0m\u001b[0m\n\u001b[0;32m--> 892\u001b[0;31m                                    sample_weight=sample_weight)\n\u001b[0m\u001b[1;32m    893\u001b[0m \u001b[0;34m\u001b[0m\u001b[0m\n\u001b[1;32m    894\u001b[0m     \u001b[0;32mdef\u001b[0m \u001b[0mpredict\u001b[0m\u001b[0;34m(\u001b[0m\u001b[0mself\u001b[0m\u001b[0;34m,\u001b[0m \u001b[0mx\u001b[0m\u001b[0;34m,\u001b[0m \u001b[0mbatch_size\u001b[0m\u001b[0;34m=\u001b[0m\u001b[0;36m32\u001b[0m\u001b[0;34m,\u001b[0m \u001b[0mverbose\u001b[0m\u001b[0;34m=\u001b[0m\u001b[0;36m0\u001b[0m\u001b[0;34m)\u001b[0m\u001b[0;34m:\u001b[0m\u001b[0;34m\u001b[0m\u001b[0m\n",
      "\u001b[0;32m/anaconda3/lib/python3.6/site-packages/keras/engine/training.py\u001b[0m in \u001b[0;36mevaluate\u001b[0;34m(self, x, y, batch_size, verbose, sample_weight)\u001b[0m\n\u001b[1;32m   1462\u001b[0m             \u001b[0msample_weight\u001b[0m\u001b[0;34m=\u001b[0m\u001b[0msample_weight\u001b[0m\u001b[0;34m,\u001b[0m\u001b[0;34m\u001b[0m\u001b[0m\n\u001b[1;32m   1463\u001b[0m             \u001b[0mcheck_batch_axis\u001b[0m\u001b[0;34m=\u001b[0m\u001b[0;32mFalse\u001b[0m\u001b[0;34m,\u001b[0m\u001b[0;34m\u001b[0m\u001b[0m\n\u001b[0;32m-> 1464\u001b[0;31m             batch_size=batch_size)\n\u001b[0m\u001b[1;32m   1465\u001b[0m         \u001b[0;31m# Prepare inputs, delegate logic to `_test_loop`.\u001b[0m\u001b[0;34m\u001b[0m\u001b[0;34m\u001b[0m\u001b[0m\n\u001b[1;32m   1466\u001b[0m         \u001b[0;32mif\u001b[0m \u001b[0mself\u001b[0m\u001b[0;34m.\u001b[0m\u001b[0muses_learning_phase\u001b[0m \u001b[0;32mand\u001b[0m \u001b[0;32mnot\u001b[0m \u001b[0misinstance\u001b[0m\u001b[0;34m(\u001b[0m\u001b[0mK\u001b[0m\u001b[0;34m.\u001b[0m\u001b[0mlearning_phase\u001b[0m\u001b[0;34m(\u001b[0m\u001b[0;34m)\u001b[0m\u001b[0;34m,\u001b[0m \u001b[0mint\u001b[0m\u001b[0;34m)\u001b[0m\u001b[0;34m:\u001b[0m\u001b[0;34m\u001b[0m\u001b[0m\n",
      "\u001b[0;32m/anaconda3/lib/python3.6/site-packages/keras/engine/training.py\u001b[0m in \u001b[0;36m_standardize_user_data\u001b[0;34m(self, x, y, sample_weight, class_weight, check_batch_axis, batch_size)\u001b[0m\n\u001b[1;32m   1232\u001b[0m                                     \u001b[0mself\u001b[0m\u001b[0;34m.\u001b[0m\u001b[0m_feed_input_shapes\u001b[0m\u001b[0;34m,\u001b[0m\u001b[0;34m\u001b[0m\u001b[0m\n\u001b[1;32m   1233\u001b[0m                                     \u001b[0mcheck_batch_axis\u001b[0m\u001b[0;34m=\u001b[0m\u001b[0;32mFalse\u001b[0m\u001b[0;34m,\u001b[0m\u001b[0;34m\u001b[0m\u001b[0m\n\u001b[0;32m-> 1234\u001b[0;31m                                     exception_prefix='input')\n\u001b[0m\u001b[1;32m   1235\u001b[0m         y = _standardize_input_data(y, self._feed_output_names,\n\u001b[1;32m   1236\u001b[0m                                     \u001b[0moutput_shapes\u001b[0m\u001b[0;34m,\u001b[0m\u001b[0;34m\u001b[0m\u001b[0m\n",
      "\u001b[0;32m/anaconda3/lib/python3.6/site-packages/keras/engine/training.py\u001b[0m in \u001b[0;36m_standardize_input_data\u001b[0;34m(data, names, shapes, check_batch_axis, exception_prefix)\u001b[0m\n\u001b[1;32m     98\u001b[0m                             \u001b[0;34m': data should be a Numpy array, '\u001b[0m\u001b[0;34m\u001b[0m\u001b[0m\n\u001b[1;32m     99\u001b[0m                             \u001b[0;34m'or list/dict of Numpy arrays. '\u001b[0m\u001b[0;34m\u001b[0m\u001b[0m\n\u001b[0;32m--> 100\u001b[0;31m                             'Found: ' + str(data)[:200] + '...')\n\u001b[0m\u001b[1;32m    101\u001b[0m         \u001b[0;32mif\u001b[0m \u001b[0mlen\u001b[0m\u001b[0;34m(\u001b[0m\u001b[0mnames\u001b[0m\u001b[0;34m)\u001b[0m \u001b[0;34m>\u001b[0m \u001b[0;36m1\u001b[0m\u001b[0;34m:\u001b[0m\u001b[0;34m\u001b[0m\u001b[0m\n\u001b[1;32m    102\u001b[0m             \u001b[0;31m# Case: model expects multiple inputs but only received\u001b[0m\u001b[0;34m\u001b[0m\u001b[0;34m\u001b[0m\u001b[0m\n",
      "\u001b[0;31mTypeError\u001b[0m: Error when checking model input: data should be a Numpy array, or list/dict of Numpy arrays. Found: <PIL.JpegImagePlugin.JpegImageFile image mode=RGB size=28x28 at 0x130636E80>..."
     ]
    }
   ],
   "source": [
    "test_loss, test_acc = model.evaluate(a, test_etiket)"
   ]
  },
  {
   "cell_type": "code",
   "execution_count": null,
   "metadata": {},
   "outputs": [],
   "source": []
  }
 ],
 "metadata": {
  "kernelspec": {
   "display_name": "Python 3",
   "language": "python",
   "name": "python3"
  },
  "language_info": {
   "codemirror_mode": {
    "name": "ipython",
    "version": 3
   },
   "file_extension": ".py",
   "mimetype": "text/x-python",
   "name": "python",
   "nbconvert_exporter": "python",
   "pygments_lexer": "ipython3",
   "version": "3.6.5"
  }
 },
 "nbformat": 4,
 "nbformat_minor": 2
}
